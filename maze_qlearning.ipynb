{
 "cells": [
  {
   "cell_type": "code",
   "execution_count": 1,
   "metadata": {},
   "outputs": [],
   "source": [
    "%load_ext autoreload\n",
    "%autoreload 2\n",
    "from Maze import Maze, animate\n",
    "import QLearner as ql\n",
    "#import DeepQNetwork as dqn\n",
    "#import DeepQN as qn"
   ]
  },
  {
   "cell_type": "code",
   "execution_count": 2,
   "metadata": {},
   "outputs": [],
   "source": [
    "%matplotlib inline\n",
    "import numpy as np\n",
    "import matplotlib.pyplot as plt\n",
    "from PIL import Image\n",
    "from __future__ import print_function\n",
    "import random as rand\n",
    "import imageio\n",
    "import glob\n",
    "import os\n",
    "import shutil"
   ]
  },
  {
   "cell_type": "code",
   "execution_count": 3,
   "metadata": {
    "collapsed": true
   },
   "outputs": [],
   "source": [
    "from IPython.display import HTML\n",
    "import random"
   ]
  },
  {
   "cell_type": "code",
   "execution_count": 4,
   "metadata": {},
   "outputs": [],
   "source": [
    "maze = Maze('testworlds/world10.csv')"
   ]
  },
  {
   "cell_type": "code",
   "execution_count": 5,
   "metadata": {},
   "outputs": [
    {
     "data": {
      "image/png": "[encoded data removed]",
      "text/plain": [
       "<matplotlib.figure.Figure at 0x1ed3af423c8>"
      ]
     },
     "metadata": {},
     "output_type": "display_data"
    }
   ],
   "source": [
    "# blue is the start of maze, red is the end\n",
    "maze.show_game()"
   ]
  },
  {
   "cell_type": "code",
   "execution_count": 6,
   "metadata": {
    "collapsed": true
   },
   "outputs": [],
   "source": [
    "rand.seed(5)"
   ]
  },
  {
   "cell_type": "code",
   "execution_count": 7,
   "metadata": {},
   "outputs": [],
   "source": [
    "learner = ql.QLearner(num_states=100,\n",
    "    num_actions = 4, \n",
    "    alpha = 0.2, \n",
    "    gamma = 0.9,\n",
    "    exploration = 0.99999) #initialize the learner"
   ]
  },
  {
   "cell_type": "code",
   "execution_count": 8,
   "metadata": {},
   "outputs": [
    {
     "name": "stdout",
     "output_type": "stream",
     "text": [
      "--------------------\n",
      "                    \n",
      "      O     O       \n",
      "  O   O     O   O   \n",
      "  O   O O O O   O   \n",
      "  O     O       O   \n",
      "  O O O O   O O O   \n",
      "        O           \n",
      "        O     O     \n",
      "        O     O     \n",
      "      * O X   O     \n",
      "--------------------\n",
      "--------------------\n",
      ". . . . . . . . . . \n",
      ". . . O . . O . . . \n",
      ". O . O . . O . O . \n",
      ". O . O O O O . O . \n",
      ". O     O . . . O . \n",
      ". O O O O . O O O . \n",
      ". . . . O . . . . . \n",
      ". . . . O . . O . . \n",
      ". . . . O . . O . . \n",
      ". . . . O * . O     \n",
      "--------------------\n",
      "iteration: 0 steps: 575\n",
      "--------------------\n",
      "    . . . . . .     \n",
      ". . . O . . O .     \n",
      ". O   O     O . O   \n",
      ". O   O O O O . O   \n",
      ". O     O . . . O   \n",
      ". O O O O . O O O   \n",
      ". . . . O .         \n",
      ". . . . O .   O     \n",
      ". . . . O .   O     \n",
      ". . . . O *   O     \n",
      "--------------------\n",
      "iteration: 200 steps: 100\n",
      "--------------------\n",
      ". . . . . . . .     \n",
      ".     O     O .     \n",
      ". O   O     O . O   \n",
      ". O   O O O O . O   \n",
      ". O     O . . . O   \n",
      ". O O O O . O O O   \n",
      ".       O .         \n",
      ". . . . O .   O     \n",
      ". . .   O .   O     \n",
      "    . . O *   O     \n",
      "--------------------\n",
      "iteration: 400 steps: 42\n",
      "--------------------\n",
      "    . . . . . .     \n",
      ". . . O     O .     \n",
      ". O   O     O . O   \n",
      ". O   O O O O . O   \n",
      ". O     O . . . O   \n",
      ". O O O O . O O O   \n",
      ". . .   O .         \n",
      "    .   O .   O     \n",
      "    .   O .   O     \n",
      "    . . O *   O     \n",
      "--------------------\n",
      "iteration: 600 steps: 30\n",
      "--------------------\n",
      "  . . . . . . .     \n",
      ". .   O     O .     \n",
      ". O   O     O . O   \n",
      ". O   O O O O . O   \n",
      ". O     O . . . O   \n",
      ". O O O O . O O O   \n",
      ". . .   O .         \n",
      "    .   O .   O     \n",
      "    . . O .   O     \n",
      "      . O *   O     \n",
      "--------------------\n",
      "iteration: 699 steps: 30\n"
     ]
    }
   ],
   "source": [
    "#each iteration involves one trip to the goal\n",
    "maze.reset()\n",
    "maze.printmap()\n",
    "max_iter = 700\n",
    "\n",
    "save_iter = [0, 300, 699]\n",
    "save_graphs = {}\n",
    "\n",
    "for iteration in range(0, max_iter): \n",
    "    steps = 0\n",
    "    maze.reset()\n",
    "    game_over = False\n",
    "    state = maze.get_state()\n",
    "    action = learner.query(state) #set the state and get first action\n",
    "    while not game_over:\n",
    "        state, r, game_over = maze.movebot(action)\n",
    "        action = learner.query(state, r)\n",
    "        steps += 1\n",
    "\n",
    "    if iteration % 200 == 0 or iteration == max_iter-1:\n",
    "        maze.printmap()\n",
    "        print(\"iteration: {} steps: {}\".format(iteration, steps))\n",
    "    \n",
    "    if iteration in save_iter:\n",
    "        save_graphs[iteration] = maze.replay.copy()"
   ]
  },
  {
   "cell_type": "code",
   "execution_count": 9,
   "metadata": {},
   "outputs": [
    {
     "data": {
      "text/html": [
       "<img src='output_maze0.gif?26'>"
      ],
      "text/plain": [
       "<IPython.core.display.HTML object>"
      ]
     },
     "execution_count": 9,
     "metadata": {},
     "output_type": "execute_result"
    }
   ],
   "source": [
    "iters_graph = 0\n",
    "animate(save_graphs[iters_graph], path='maze{}'.format(iters_graph), \n",
    "        animation='output_maze{}.gif'.format(iters_graph))\n",
    "from IPython.display import HTML\n",
    "import random\n",
    "HTML(\"<img src='output_maze{}.gif?{}'>\".format(iters_graph, round(random.random()*100)))"
   ]
  },
  {
   "cell_type": "code",
   "execution_count": 10,
   "metadata": {},
   "outputs": [
    {
     "data": {
      "text/html": [
       "<img src='output_maze100.gif?20'>"
      ],
      "text/plain": [
       "<IPython.core.display.HTML object>"
      ]
     },
     "execution_count": 10,
     "metadata": {},
     "output_type": "execute_result"
    }
   ],
   "source": [
    "animate(save_graphs[300], path='maze500', animation='output_maze100.gif')\n",
    "from IPython.display import HTML\n",
    "import random\n",
    "HTML(\"<img src='output_maze100.gif?{}'>\".format(round(random.random()*100)))"
   ]
  },
  {
   "cell_type": "code",
   "execution_count": 11,
   "metadata": {},
   "outputs": [
    {
     "data": {
      "text/html": [
       "<img src='output_maze199.gif?53'>"
      ],
      "text/plain": [
       "<IPython.core.display.HTML object>"
      ]
     },
     "execution_count": 11,
     "metadata": {},
     "output_type": "execute_result"
    }
   ],
   "source": [
    "animate(save_graphs[699], path='maze999', animation='output_maze199.gif')\n",
    "from IPython.display import HTML\n",
    "import random\n",
    "HTML(\"<img src='output_maze199.gif?{}'>\".format(round(random.random()*100)))"
   ]
  },
  {
   "cell_type": "code",
   "execution_count": null,
   "metadata": {
    "collapsed": true
   },
   "outputs": [],
   "source": []
  }
 ],
 "metadata": {
  "kernelspec": {
   "display_name": "Python [conda env:carnd-term1]",
   "language": "python",
   "name": "conda-env-carnd-term1-py"
  },
  "language_info": {
   "codemirror_mode": {
    "name": "ipython",
    "version": 3
   },
   "file_extension": ".py",
   "mimetype": "text/x-python",
   "name": "python",
   "nbconvert_exporter": "python",
   "pygments_lexer": "ipython3",
   "version": "3.5.2"
  }
 },
 "nbformat": 4,
 "nbformat_minor": 1
}
