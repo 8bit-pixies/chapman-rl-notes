{
 "cells": [
  {
   "cell_type": "markdown",
   "metadata": {
    "collapsed": true
   },
   "source": [
    "Reinforcement Learning\n",
    "------------------------\n",
    "\n",
    "**Chapman Siu**\n",
    "\n",
    "The example in this notebook is based on blog post and code provided here: \n",
    "*  https://gist.github.com/EderSantana/c7222daa328f0e885093  \n",
    "*  https://edersantana.github.io/articles/keras_rl/  \n"
   ]
  },
  {
   "cell_type": "code",
   "execution_count": 1,
   "metadata": {},
   "outputs": [],
   "source": [
    "%matplotlib inline\n",
    "from IPython.display import HTML\n",
    "from Catch import Catch, animate"
   ]
  },
  {
   "cell_type": "code",
   "execution_count": 2,
   "metadata": {},
   "outputs": [],
   "source": [
    "grid_size = 10\n",
    "catch = Catch(grid_size)"
   ]
  },
  {
   "cell_type": "code",
   "execution_count": 3,
   "metadata": {},
   "outputs": [
    {
     "data": {
      "text/plain": [
       "array([[ 0.,  0.,  0.,  0.,  0.,  0.,  2.,  0.,  0.,  0.],\n",
       "       [ 0.,  0.,  0.,  0.,  0.,  0.,  0.,  0.,  0.,  0.],\n",
       "       [ 0.,  0.,  0.,  0.,  0.,  0.,  0.,  0.,  0.,  0.],\n",
       "       [ 0.,  0.,  0.,  0.,  0.,  0.,  0.,  0.,  0.,  0.],\n",
       "       [ 0.,  0.,  0.,  0.,  0.,  0.,  0.,  0.,  0.,  0.],\n",
       "       [ 0.,  0.,  0.,  0.,  0.,  0.,  0.,  0.,  0.,  0.],\n",
       "       [ 0.,  0.,  0.,  0.,  0.,  0.,  0.,  0.,  0.,  0.],\n",
       "       [ 0.,  0.,  0.,  0.,  0.,  0.,  0.,  0.,  0.,  0.],\n",
       "       [ 0.,  0.,  0.,  0.,  0.,  0.,  0.,  0.,  0.,  0.],\n",
       "       [ 1.,  1.,  1.,  0.,  0.,  0.,  0.,  0.,  0.,  0.]])"
      ]
     },
     "execution_count": 3,
     "metadata": {},
     "output_type": "execute_result"
    }
   ],
   "source": [
    "catch._draw_state()"
   ]
  },
  {
   "cell_type": "code",
   "execution_count": 4,
   "metadata": {},
   "outputs": [
    {
     "data": {
      "image/png": "[encoded data removed]",
      "text/plain": [
       "<matplotlib.figure.Figure at 0x1f0507d7668>"
      ]
     },
     "metadata": {},
     "output_type": "display_data"
    }
   ],
   "source": [
    "catch.show_game()"
   ]
  },
  {
   "cell_type": "code",
   "execution_count": 5,
   "metadata": {},
   "outputs": [],
   "source": [
    "catch._update_state(1)\n",
    "catch._update_state(1)\n",
    "catch._update_state(1)\n",
    "catch._update_state(1)\n",
    "catch._update_state(1)\n",
    "catch._update_state(1)\n",
    "catch._update_state(1)\n",
    "catch._update_state(1)\n",
    "catch._update_state(1)"
   ]
  },
  {
   "cell_type": "code",
   "execution_count": 6,
   "metadata": {},
   "outputs": [],
   "source": [
    "animate(catch.replay_states)"
   ]
  },
  {
   "cell_type": "code",
   "execution_count": 7,
   "metadata": {},
   "outputs": [
    {
     "data": {
      "text/html": [
       "<img src='output_animated.gif?92'>"
      ],
      "text/plain": [
       "<IPython.core.display.HTML object>"
      ]
     },
     "execution_count": 7,
     "metadata": {},
     "output_type": "execute_result"
    }
   ],
   "source": [
    "from IPython.display import HTML\n",
    "import random\n",
    "HTML(\"<img src='output_animated.gif?{}'>\".format(round(random.random()*100)))"
   ]
  },
  {
   "cell_type": "code",
   "execution_count": 8,
   "metadata": {},
   "outputs": [
    {
     "data": {
      "text/plain": [
       "'\\nHow to best teach a machine to learn how to play this game??\\n'"
      ]
     },
     "execution_count": 8,
     "metadata": {},
     "output_type": "execute_result"
    }
   ],
   "source": [
    "# we win!\n",
    "\"\"\"\n",
    "How to best teach a machine to learn how to play this game??\n",
    "\"\"\""
   ]
  },
  {
   "cell_type": "code",
   "execution_count": 9,
   "metadata": {},
   "outputs": [
    {
     "name": "stderr",
     "output_type": "stream",
     "text": [
      "Using TensorFlow backend.\n"
     ]
    }
   ],
   "source": [
    "from DeepQNetwork import DeepQN"
   ]
  },
  {
   "cell_type": "code",
   "execution_count": 10,
   "metadata": {},
   "outputs": [],
   "source": [
    "qdnlearner = DeepQN(num_states=(10, 10, ),\n",
    "    num_actions = 3, \n",
    "    memory = 500,\n",
    "    verbose=False) #initialize the learner"
   ]
  },
  {
   "cell_type": "code",
   "execution_count": null,
   "metadata": {},
   "outputs": [
    {
     "name": "stdout",
     "output_type": "stream",
     "text": [
      "0\n",
      "100\n",
      "200\n",
      "300\n",
      "400\n",
      "500\n",
      "600\n",
      "700\n",
      "800\n",
      "900\n",
      "1000\n",
      "1100\n",
      "1200\n",
      "1300\n",
      "1400\n",
      "1500\n",
      "1600\n",
      "1700\n",
      "1800\n",
      "1900\n"
     ]
    }
   ],
   "source": [
    "max_iter = 2000\n",
    "save_iter = [0, 500, 1000, 1500, 1999]\n",
    "replay_iter = {}\n",
    "\n",
    "for iteration in range(0, max_iter):\n",
    "    catch.reset()\n",
    "    game_over = False\n",
    "    \n",
    "    state = catch.observe()\n",
    "    action = qdnlearner.query(state)       \n",
    "    \n",
    "    while not game_over:        \n",
    "        # move paddle\n",
    "        state, r, game_over = catch.act(action)\n",
    "        action = qdnlearner.query(state, r)\n",
    "        \n",
    "    if iteration in save_iter:\n",
    "        replay_iter[iteration] = catch.replay_states.copy()\n",
    "    if iteration % 100 == 0 or iteration == max_iter-1:\n",
    "        print(iteration)"
   ]
  },
  {
   "cell_type": "code",
   "execution_count": null,
   "metadata": {},
   "outputs": [],
   "source": [
    "iter_id = 0\n",
    "animate(replay_iter[iter_id], animation='output_catch{}.gif'.format(iter_id))\n",
    "HTML(\"<img src='output_catch{}.gif?{}'>\".format(iter_id, round(random.random()*100)))"
   ]
  },
  {
   "cell_type": "code",
   "execution_count": null,
   "metadata": {},
   "outputs": [],
   "source": [
    "iter_id = 500\n",
    "animate(replay_iter[iter_id], animation='output_catch{}.gif'.format(iter_id))\n",
    "HTML(\"<img src='output_catch{}.gif?{}'>\".format(iter_id, round(random.random()*100)))"
   ]
  },
  {
   "cell_type": "code",
   "execution_count": null,
   "metadata": {},
   "outputs": [],
   "source": [
    "iter_id = 1000\n",
    "animate(replay_iter[iter_id], animation='output_catch{}.gif'.format(iter_id))\n",
    "HTML(\"<img src='output_catch{}.gif?{}'>\".format(iter_id, round(random.random()*100)))"
   ]
  },
  {
   "cell_type": "code",
   "execution_count": null,
   "metadata": {},
   "outputs": [],
   "source": [
    "iter_id = 1500\n",
    "animate(replay_iter[iter_id], animation='output_catch{}.gif'.format(iter_id))\n",
    "HTML(\"<img src='output_catch{}.gif?{}'>\".format(iter_id, round(random.random()*100)))"
   ]
  },
  {
   "cell_type": "code",
   "execution_count": null,
   "metadata": {},
   "outputs": [],
   "source": [
    "iter_id = 1999\n",
    "animate(replay_iter[iter_id], animation='output_catch{}.gif'.format(iter_id))\n",
    "HTML(\"<img src='output_catch{}.gif?{}'>\".format(iter_id, round(random.random()*100)))"
   ]
  },
  {
   "cell_type": "code",
   "execution_count": null,
   "metadata": {},
   "outputs": [],
   "source": [
    "### now no more training, just play the game...\n",
    "catch.reset()\n",
    "game_over = False\n",
    "\n",
    "state = catch.observe()\n",
    "action = qdnlearner.querysetstate(state)       \n",
    "\n",
    "while not game_over:        \n",
    "    # move paddle\n",
    "    state, r, game_over = catch.act(action)\n",
    "    action = qdnlearner.querysetstate(state)\n",
    "\n",
    "animate(catch.replay_states, animation='output_catch_play.gif')\n",
    "HTML(\"<img src='output_catch_play.gif?{}'>\".format(round(random.random()*100)))"
   ]
  }
 ],
 "metadata": {
  "kernelspec": {
   "display_name": "Python [conda env:carnd-term1]",
   "language": "python",
   "name": "conda-env-carnd-term1-py"
  },
  "language_info": {
   "codemirror_mode": {
    "name": "ipython",
    "version": 3
   },
   "file_extension": ".py",
   "mimetype": "text/x-python",
   "name": "python",
   "nbconvert_exporter": "python",
   "pygments_lexer": "ipython3",
   "version": "3.5.2"
  }
 },
 "nbformat": 4,
 "nbformat_minor": 2
}
